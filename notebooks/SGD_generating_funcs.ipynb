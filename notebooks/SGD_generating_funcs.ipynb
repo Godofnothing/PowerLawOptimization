{
  "cells": [
    {
      "cell_type": "code",
      "execution_count": null,
      "metadata": {
        "id": "vgNLXnUdsf9T"
      },
      "outputs": [],
      "source": [
        "import numpy as np\n",
        "import matplotlib.pyplot as plt\n",
        "\n",
        "from sympy import *\n",
        "from IPython.display import display\n",
        "\n",
        "init_printing(use_unicode=True)"
      ]
    },
    {
      "cell_type": "markdown",
      "metadata": {
        "id": "1Eppj5b1svBq"
      },
      "source": [
        "# The terms in the expansions of the generating functions $\\widetilde U,\\widetilde V$"
      ]
    },
    {
      "cell_type": "code",
      "execution_count": null,
      "metadata": {
        "colab": {
          "base_uri": "https://localhost:8080/",
          "height": 58
        },
        "id": "ZxD9YMdXsvTl",
        "outputId": "ec97abc1-0e45-4201-ed59-2f600ec824fb"
      },
      "outputs": [
        {
          "data": {
            "text/latex": [
              "$\\displaystyle \\left[\\begin{matrix}c_{11} - z \\left(- \\alpha^{2} \\gamma \\lambda_{k}^{2} \\tau c_{11} + \\beta \\left(\\beta c_{22} + c_{12} \\left(- \\alpha \\lambda_{k} + 1\\right)\\right) + \\left(- \\alpha \\lambda_{k} + 1\\right) \\left(\\beta c_{12} + c_{11} \\left(- \\alpha \\lambda_{k} + 1\\right)\\right)\\right) & c_{12} - z \\left(- \\alpha^{2} \\gamma \\lambda_{k}^{2} \\tau c_{11} - \\alpha \\lambda_{k} \\left(\\beta c_{12} + c_{11} \\left(- \\alpha \\lambda_{k} + 1\\right)\\right) + \\beta \\left(\\beta c_{22} + c_{12} \\left(- \\alpha \\lambda_{k} + 1\\right)\\right)\\right)\\\\c_{12} - z \\left(- \\alpha^{2} \\gamma \\lambda_{k}^{2} \\tau c_{11} + \\beta \\left(- \\alpha \\lambda_{k} c_{12} + \\beta c_{22}\\right) + \\left(- \\alpha \\lambda_{k} + 1\\right) \\left(- \\alpha \\lambda_{k} c_{11} + \\beta c_{12}\\right)\\right) & c_{22} - z \\left(- \\alpha^{2} \\gamma \\lambda_{k}^{2} \\tau c_{11} - \\alpha \\lambda_{k} \\left(- \\alpha \\lambda_{k} c_{11} + \\beta c_{12}\\right) + \\beta \\left(- \\alpha \\lambda_{k} c_{12} + \\beta c_{22}\\right)\\right)\\end{matrix}\\right]$"
            ],
            "text/plain": [
              "⎡        ⎛        2                2                                          \n",
              "⎢c₁₁ - z⋅⎝- \\alpha ⋅\\gamma⋅\\lambdaₖ ⋅\\tau⋅c₁₁ + \\beta⋅(\\beta⋅c₂₂ + c₁₂⋅(-\\alph\n",
              "⎢                                                                             \n",
              "⎢              ⎛        2                2                                    \n",
              "⎣      c₁₂ - z⋅⎝- \\alpha ⋅\\gamma⋅\\lambdaₖ ⋅\\tau⋅c₁₁ + \\beta⋅(-\\alpha⋅\\lambdaₖ⋅\n",
              "\n",
              "                                                                              \n",
              "a⋅\\lambdaₖ + 1)) + (-\\alpha⋅\\lambdaₖ + 1)⋅(\\beta⋅c₁₂ + c₁₁⋅(-\\alpha⋅\\lambdaₖ +\n",
              "                                                                              \n",
              "                                                                            ⎞ \n",
              "c₁₂ + \\beta⋅c₂₂) + (-\\alpha⋅\\lambdaₖ + 1)⋅(-\\alpha⋅\\lambdaₖ⋅c₁₁ + \\beta⋅c₁₂)⎠ \n",
              "\n",
              "    ⎞          ⎛        2                2                                    \n",
              " 1))⎠  c₁₂ - z⋅⎝- \\alpha ⋅\\gamma⋅\\lambdaₖ ⋅\\tau⋅c₁₁ - \\alpha⋅\\lambdaₖ⋅(\\beta⋅c\n",
              "                                                                              \n",
              "                     ⎛        2                2                              \n",
              "             c₂₂ - z⋅⎝- \\alpha ⋅\\gamma⋅\\lambdaₖ ⋅\\tau⋅c₁₁ - \\alpha⋅\\lambdaₖ⋅(-\n",
              "\n",
              "                                                                              \n",
              "₁₂ + c₁₁⋅(-\\alpha⋅\\lambdaₖ + 1)) + \\beta⋅(\\beta⋅c₂₂ + c₁₂⋅(-\\alpha⋅\\lambdaₖ + \n",
              "                                                                              \n",
              "                                                                           ⎞  \n",
              "\\alpha⋅\\lambdaₖ⋅c₁₁ + \\beta⋅c₁₂) + \\beta⋅(-\\alpha⋅\\lambdaₖ⋅c₁₂ + \\beta⋅c₂₂)⎠  \n",
              "\n",
              "   ⎞⎤\n",
              "1))⎠⎥\n",
              "    ⎥\n",
              "    ⎥\n",
              "    ⎦"
            ]
          },
          "execution_count": 3,
          "metadata": {},
          "output_type": "execute_result"
        }
      ],
      "source": [
        "# model parameters\n",
        "alpha, lam, beta, gamma, tau, z = var('\\\\alpha, \\\\lambda_k, \\\\beta, \\\\gamma, \\\\tau, z')\n",
        "\n",
        "# 2nd moment matrix C\n",
        "c11, c12, c22 = var('c11, c12, c22')\n",
        "C = Matrix([[c11,c12],[c12,c22]])\n",
        "\n",
        "# Compute C2 = (1-zA_\\lambda)C \n",
        "R1 = Matrix([[1-alpha*lam, beta],[-alpha*lam, beta]])\n",
        "R2 = Matrix([[1,0],[1,0]])\n",
        "C1 = R1*C*R1.T-tau*gamma*alpha**2*lam**2*R2*C*R2.T\n",
        "C2 = C-z*C1\n",
        "C2"
      ]
    },
    {
      "cell_type": "markdown",
      "metadata": {
        "id": "hpPTeOSyvw8d"
      },
      "source": [
        "$\\widetilde U$"
      ]
    },
    {
      "cell_type": "code",
      "execution_count": null,
      "metadata": {
        "colab": {
          "base_uri": "https://localhost:8080/",
          "height": 57
        },
        "id": "eVt2mJAsvcBX",
        "outputId": "2acaef7a-ab00-40b3-8149-5019384a6d62"
      },
      "outputs": [
        {
          "data": {
            "image/png": "[encoded data removed]",
            "text/latex": [
              "$\\displaystyle \\frac{\\beta z + 1}{\\alpha^{2} \\beta \\gamma \\lambda_{k}^{2} \\tau z^{2} + \\alpha^{2} \\beta \\lambda_{k}^{2} z^{2} + \\alpha^{2} \\gamma \\lambda_{k}^{2} \\tau z - \\alpha^{2} \\lambda_{k}^{2} z - 2 \\alpha \\beta^{2} \\lambda_{k} z^{2} - 2 \\alpha \\beta \\lambda_{k} z^{2} + 2 \\alpha \\beta \\lambda_{k} z + 2 \\alpha \\lambda_{k} z - \\beta^{3} z^{3} + \\beta^{3} z^{2} + \\beta^{2} z^{2} - \\beta^{2} z + \\beta z^{2} - \\beta z - z + 1}$"
            ],
            "text/plain": [
              "                                                                              \n",
              "──────────────────────────────────────────────────────────────────────────────\n",
              "      2                      2       2         2               2  2         2 \n",
              "\\alpha ⋅\\beta⋅\\gamma⋅\\lambdaₖ ⋅\\tau⋅z  + \\alpha ⋅\\beta⋅\\lambdaₖ ⋅z  + \\alpha ⋅\n",
              "\n",
              "                                                                      \\beta⋅z \n",
              "──────────────────────────────────────────────────────────────────────────────\n",
              "               2                2         2                   2           2   \n",
              "\\gamma⋅\\lambdaₖ ⋅\\tau⋅z - \\alpha ⋅\\lambdaₖ ⋅z - 2⋅\\alpha⋅\\beta ⋅\\lambdaₖ⋅z  - \n",
              "\n",
              "+ 1                                                                           \n",
              "──────────────────────────────────────────────────────────────────────────────\n",
              "                         2                                                    \n",
              "2⋅\\alpha⋅\\beta⋅\\lambdaₖ⋅z  + 2⋅\\alpha⋅\\beta⋅\\lambdaₖ⋅z + 2⋅\\alpha⋅\\lambdaₖ⋅z -\n",
              "\n",
              "                                                                          \n",
              "──────────────────────────────────────────────────────────────────────────\n",
              "      3  3        3  2        2  2        2            2                  \n",
              " \\beta ⋅z  + \\beta ⋅z  + \\beta ⋅z  - \\beta ⋅z + \\beta⋅z  - \\beta⋅z - z + 1"
            ]
          },
          "execution_count": 4,
          "metadata": {},
          "output_type": "execute_result"
        }
      ],
      "source": [
        "# Equate C2 to [[1,1],[1,1]] and solve for c11\n",
        "U = simplify(solve([C2[0,0]-1, C2[0,1]-1, C2[1,1]-1], (c11, c12, c22))[c11])\n",
        "U"
      ]
    },
    {
      "cell_type": "markdown",
      "metadata": {
        "id": "clgo2vRl1gsZ"
      },
      "source": [
        "$\\widetilde V$"
      ]
    },
    {
      "cell_type": "code",
      "execution_count": null,
      "metadata": {
        "colab": {
          "base_uri": "https://localhost:8080/",
          "height": 59
        },
        "id": "_1jkfNgn1j62",
        "outputId": "71380ad8-5f04-49f5-f88c-1c7aa56db2c4"
      },
      "outputs": [
        {
          "data": {
            "image/png": "[encoded data removed]",
            "text/latex": [
              "$\\displaystyle \\frac{2 \\alpha \\beta \\lambda_{k} z + \\beta^{3} z^{2} - \\beta^{2} z - \\beta z + 1}{\\alpha^{2} \\beta \\gamma \\lambda_{k}^{2} \\tau z^{2} + \\alpha^{2} \\beta \\lambda_{k}^{2} z^{2} + \\alpha^{2} \\gamma \\lambda_{k}^{2} \\tau z - \\alpha^{2} \\lambda_{k}^{2} z - 2 \\alpha \\beta^{2} \\lambda_{k} z^{2} - 2 \\alpha \\beta \\lambda_{k} z^{2} + 2 \\alpha \\beta \\lambda_{k} z + 2 \\alpha \\lambda_{k} z - \\beta^{3} z^{3} + \\beta^{3} z^{2} + \\beta^{2} z^{2} - \\beta^{2} z + \\beta z^{2} - \\beta z - z + 1}$"
            ],
            "text/plain": [
              "                                                                              \n",
              "                                                                              \n",
              "──────────────────────────────────────────────────────────────────────────────\n",
              "      2                      2       2         2               2  2         2 \n",
              "\\alpha ⋅\\beta⋅\\gamma⋅\\lambdaₖ ⋅\\tau⋅z  + \\alpha ⋅\\beta⋅\\lambdaₖ ⋅z  + \\alpha ⋅\n",
              "\n",
              "                                                                              \n",
              "                                             2⋅\\alpha⋅\\beta⋅\\lambdaₖ⋅z + \\beta\n",
              "──────────────────────────────────────────────────────────────────────────────\n",
              "               2                2         2                   2           2   \n",
              "\\gamma⋅\\lambdaₖ ⋅\\tau⋅z - \\alpha ⋅\\lambdaₖ ⋅z - 2⋅\\alpha⋅\\beta ⋅\\lambdaₖ⋅z  - \n",
              "\n",
              "3  2        2                                                                 \n",
              " ⋅z  - \\beta ⋅z - \\beta⋅z + 1                                                 \n",
              "──────────────────────────────────────────────────────────────────────────────\n",
              "                         2                                                    \n",
              "2⋅\\alpha⋅\\beta⋅\\lambdaₖ⋅z  + 2⋅\\alpha⋅\\beta⋅\\lambdaₖ⋅z + 2⋅\\alpha⋅\\lambdaₖ⋅z -\n",
              "\n",
              "                                                                          \n",
              "                                                                          \n",
              "──────────────────────────────────────────────────────────────────────────\n",
              "      3  3        3  2        2  2        2            2                  \n",
              " \\beta ⋅z  + \\beta ⋅z  + \\beta ⋅z  - \\beta ⋅z + \\beta⋅z  - \\beta⋅z - z + 1"
            ]
          },
          "execution_count": 5,
          "metadata": {},
          "output_type": "execute_result"
        }
      ],
      "source": [
        "# Equate C2 to [[1,0],[0,0]] and solve for c11\n",
        "V = simplify(solve([C2[0,0]-1, C2[0,1], C2[1,1]], (c11, c12, c22))[c11])\n",
        "V"
      ]
    },
    {
      "cell_type": "markdown",
      "metadata": {
        "id": "sAZ39WPq2fvH"
      },
      "source": [
        "Extracting the numerators and the denominator $S$"
      ]
    },
    {
      "cell_type": "code",
      "execution_count": null,
      "metadata": {
        "colab": {
          "base_uri": "https://localhost:8080/",
          "height": 170
        },
        "id": "bbfucbI42nQ9",
        "outputId": "95865b46-3d05-4ed3-9343-272174b1e2f8"
      },
      "outputs": [
        {
          "name": "stdout",
          "output_type": "stream",
          "text": [
            "Numerator in U terms:\n"
          ]
        },
        {
          "data": {
            "image/png": "[encoded data removed]",
            "text/latex": [
              "$\\displaystyle \\beta z + 1$"
            ],
            "text/plain": [
              "\\beta⋅z + 1"
            ]
          },
          "metadata": {},
          "output_type": "display_data"
        },
        {
          "name": "stdout",
          "output_type": "stream",
          "text": [
            "\n",
            "Numerator in V terms:\n"
          ]
        },
        {
          "data": {
            "image/png": "[encoded data removed]",
            "text/latex": [
              "$\\displaystyle 2 \\alpha \\beta \\lambda_{k} z + \\beta^{3} z^{2} - \\beta^{2} z - \\beta z + 1$"
            ],
            "text/plain": [
              "                                 3  2        2                \n",
              "2⋅\\alpha⋅\\beta⋅\\lambdaₖ⋅z + \\beta ⋅z  - \\beta ⋅z - \\beta⋅z + 1"
            ]
          },
          "metadata": {},
          "output_type": "display_data"
        },
        {
          "name": "stdout",
          "output_type": "stream",
          "text": [
            "\n",
            "Denominator S:\n"
          ]
        },
        {
          "data": {
            "image/png": "[encoded data removed]",
            "text/latex": [
              "$\\displaystyle \\alpha^{2} \\beta \\gamma \\lambda_{k}^{2} \\tau z^{2} + \\alpha^{2} \\beta \\lambda_{k}^{2} z^{2} + \\alpha^{2} \\gamma \\lambda_{k}^{2} \\tau z - \\alpha^{2} \\lambda_{k}^{2} z - 2 \\alpha \\beta^{2} \\lambda_{k} z^{2} - 2 \\alpha \\beta \\lambda_{k} z^{2} + 2 \\alpha \\beta \\lambda_{k} z + 2 \\alpha \\lambda_{k} z - \\beta^{3} z^{3} + \\beta^{3} z^{2} + \\beta^{2} z^{2} - \\beta^{2} z + \\beta z^{2} - \\beta z - z + 1$"
            ],
            "text/plain": [
              "      2                      2       2         2               2  2         2 \n",
              "\\alpha ⋅\\beta⋅\\gamma⋅\\lambdaₖ ⋅\\tau⋅z  + \\alpha ⋅\\beta⋅\\lambdaₖ ⋅z  + \\alpha ⋅\n",
              "\n",
              "               2                2         2                   2           2   \n",
              "\\gamma⋅\\lambdaₖ ⋅\\tau⋅z - \\alpha ⋅\\lambdaₖ ⋅z - 2⋅\\alpha⋅\\beta ⋅\\lambdaₖ⋅z  - \n",
              "\n",
              "                         2                                                    \n",
              "2⋅\\alpha⋅\\beta⋅\\lambdaₖ⋅z  + 2⋅\\alpha⋅\\beta⋅\\lambdaₖ⋅z + 2⋅\\alpha⋅\\lambdaₖ⋅z -\n",
              "\n",
              "      3  3        3  2        2  2        2            2                  \n",
              " \\beta ⋅z  + \\beta ⋅z  + \\beta ⋅z  - \\beta ⋅z + \\beta⋅z  - \\beta⋅z - z + 1"
            ]
          },
          "metadata": {},
          "output_type": "display_data"
        }
      ],
      "source": [
        "Unum, Udenom = fraction(U)\n",
        "Vnum, Vdenom = fraction(V)\n",
        "assert Udenom-Vdenom == 0\n",
        "S_ = Udenom\n",
        "print ('Numerator in U terms:')\n",
        "display(Unum)\n",
        "print ('\\nNumerator in V terms:')\n",
        "display(Vnum)\n",
        "print ('\\nDenominator S:')\n",
        "display(S_)"
      ]
    },
    {
      "cell_type": "markdown",
      "metadata": {
        "id": "3hh5GIvx49rP"
      },
      "source": [
        "$\\gamma$ and $\\tau$ appear in $S$ only as a product $\\gamma\\tau$:"
      ]
    },
    {
      "cell_type": "code",
      "execution_count": null,
      "metadata": {
        "colab": {
          "base_uri": "https://localhost:8080/",
          "height": 38
        },
        "id": "BDdgS0bY49MQ",
        "outputId": "625627b4-02dd-4440-a66f-ae7dc67da4c2"
      },
      "outputs": [
        {
          "data": {
            "image/png": "[encoded data removed]",
            "text/latex": [
              "$\\displaystyle \\alpha^{2} \\beta \\gamma \\lambda_{k}^{2} z^{2} + \\alpha^{2} \\beta \\lambda_{k}^{2} z^{2} + \\alpha^{2} \\gamma \\lambda_{k}^{2} z - \\alpha^{2} \\lambda_{k}^{2} z - 2 \\alpha \\beta^{2} \\lambda_{k} z^{2} - 2 \\alpha \\beta \\lambda_{k} z^{2} + 2 \\alpha \\beta \\lambda_{k} z + 2 \\alpha \\lambda_{k} z - \\beta^{3} z^{3} + \\beta^{3} z^{2} + \\beta^{2} z^{2} - \\beta^{2} z + \\beta z^{2} - \\beta z - z + 1$"
            ],
            "text/plain": [
              "      2                      2  2         2               2  2         2      \n",
              "\\alpha ⋅\\beta⋅\\gamma⋅\\lambdaₖ ⋅z  + \\alpha ⋅\\beta⋅\\lambdaₖ ⋅z  + \\alpha ⋅\\gamm\n",
              "\n",
              "          2           2         2                   2           2             \n",
              "a⋅\\lambdaₖ ⋅z - \\alpha ⋅\\lambdaₖ ⋅z - 2⋅\\alpha⋅\\beta ⋅\\lambdaₖ⋅z  - 2⋅\\alpha⋅\\\n",
              "\n",
              "               2                                                          3  3\n",
              "beta⋅\\lambdaₖ⋅z  + 2⋅\\alpha⋅\\beta⋅\\lambdaₖ⋅z + 2⋅\\alpha⋅\\lambdaₖ⋅z - \\beta ⋅z \n",
              "\n",
              "        3  2        2  2        2            2                  \n",
              " + \\beta ⋅z  + \\beta ⋅z  - \\beta ⋅z + \\beta⋅z  - \\beta⋅z - z + 1"
            ]
          },
          "execution_count": 7,
          "metadata": {},
          "output_type": "execute_result"
        }
      ],
      "source": [
        "S = S_.subs({gamma*tau:gamma})\n",
        "S"
      ]
    },
    {
      "cell_type": "markdown",
      "metadata": {
        "id": "NZeUQImX9nix"
      },
      "source": [
        "# Monotonicity and positivity\n",
        "## Verification of condition $S> 0$ "
      ]
    },
    {
      "cell_type": "code",
      "execution_count": null,
      "metadata": {
        "colab": {
          "base_uri": "https://localhost:8080/",
          "height": 56
        },
        "id": "8eJvaoFmXZQM",
        "outputId": "341a9d02-8c48-464c-d962-c662ab2ef5d1"
      },
      "outputs": [
        {
          "data": {
            "image/png": "[encoded data removed]",
            "text/latex": [
              "$\\displaystyle a^{2} b g z^{2} + a^{2} b z^{2} + a^{2} g z - a^{2} z - 2 a b^{2} z^{2} - 2 a b z^{2} + 2 a b z + 2 a z - b^{3} z^{3} + b^{3} z^{2} + b^{2} z^{2} - b^{2} z + b z^{2} - b z - z + 1$"
            ],
            "text/plain": [
              " 2      2    2    2    2        2          2  2          2                    \n",
              "a ⋅b⋅g⋅z  + a ⋅b⋅z  + a ⋅g⋅z - a ⋅z - 2⋅a⋅b ⋅z  - 2⋅a⋅b⋅z  + 2⋅a⋅b⋅z + 2⋅a⋅z -\n",
              "\n",
              "  3  3    3  2    2  2    2        2              \n",
              " b ⋅z  + b ⋅z  + b ⋅z  - b ⋅z + b⋅z  - b⋅z - z + 1"
            ]
          },
          "metadata": {},
          "output_type": "display_data"
        },
        {
          "name": "stdout",
          "output_type": "stream",
          "text": [
            "a**2*b*g*z**2 + a**2*b*z**2 + a**2*g*z - a**2*z - 2*a*b**2*z**2 - 2*a*b*z**2 + 2*a*b*z + 2*a*z - b**3*z**3 + b**3*z**2 + b**2*z**2 - b**2*z + b*z**2 - b*z - z + 1\n"
          ]
        }
      ],
      "source": [
        "# simplify notation for brevity\n",
        "a, b, g = var('a, b, g')\n",
        "Sa = S.subs({alpha*lam: a, beta:b, gamma:g})\n",
        "display(Sa)\n",
        "print(Sa)"
      ]
    },
    {
      "cell_type": "markdown",
      "metadata": {
        "id": "_LP8u6l7Yplr"
      },
      "source": [
        "Definitions for REDUCE/Redlog:\n",
        "\n",
        "`S := a**2*b*g*z**2 + a**2*b*z**2 + a**2*g*z - a**2*z - 2*a*b**2*z**2 - 2*a*b*z**2 + 2*a*b*z + 2*a*z - b**3*z**3 + b**3*z**2 + b**2*z**2 - b**2*z + b*z**2 - b*z - z + 1`\n",
        "\n",
        "The condition for REDUCE/Redlog to be determined as FALSE: \n",
        "\n",
        "`W := ex({a,b,g,z}, -1<b and b<1 and 0<a and a<2*(b+1) and 0<=g and g<=1 and 0<z and z<1 and S<=0)`\n"
      ]
    },
    {
      "cell_type": "markdown",
      "metadata": {
        "id": "Z5NNFX8lyRDH"
      },
      "source": [
        "### Experimental demonstration of $S>0$"
      ]
    },
    {
      "cell_type": "code",
      "execution_count": null,
      "metadata": {
        "colab": {
          "base_uri": "https://localhost:8080/",
          "height": 704
        },
        "id": "35Bxh5VQygr2",
        "outputId": "c5b19a61-8db8-45e9-9198-deedf6bc9a57"
      },
      "outputs": [
        {
          "data": {
            "image/png": "[encoded data removed]",
            "text/plain": [
              "<Figure size 432x288 with 1 Axes>"
            ]
          },
          "metadata": {
            "needs_background": "light"
          },
          "output_type": "display_data"
        },
        {
          "data": {
            "image/png": "[encoded data removed]",
            "text/plain": [
              "<Figure size 432x288 with 1 Axes>"
            ]
          },
          "metadata": {
            "needs_background": "light"
          },
          "output_type": "display_data"
        },
        {
          "data": {
            "image/png": "[encoded data removed]",
            "text/plain": [
              "<Figure size 432x288 with 1 Axes>"
            ]
          },
          "metadata": {
            "needs_background": "light"
          },
          "output_type": "display_data"
        }
      ],
      "source": [
        "import matplotlib.patches as mpatches\n",
        "\n",
        "fS = lambdify([alpha, beta, gamma, lam, z], S, 'numpy')\n",
        "z_ = np.linspace(0,1,100)\n",
        "alphaA = np.linspace(0,4,200)\n",
        "betaA = np.linspace(-1,1,100)\n",
        "gammaA = np.linspace(0,1,3)\n",
        "res = np.zeros((len(gammaA),len(alphaA),len(betaA)))\n",
        "extent = np.min(alphaA), np.max(alphaA), np.min(betaA), np.max(betaA)\n",
        "\n",
        "for n_gamma, gamma_ in enumerate(gammaA):\n",
        "    plt.figure()\n",
        "    for n_alpha, alpha_ in enumerate(alphaA):\n",
        "        for n_beta, beta_ in enumerate(betaA):\n",
        "            res[n_gamma, n_alpha, n_beta] = np.prod(fS(alpha_, beta_, gamma_, 1, z_) > 0)\n",
        " \n",
        "    plt.xlabel('$\\\\alpha$')\n",
        "    plt.ylabel('$\\\\beta$')\n",
        "    plt.title('$\\\\gamma$ = %.2f' %gamma_)\n",
        "    im = plt.imshow(res[n_gamma].T, extent=extent, origin='lower')\n",
        "    colors = [im.cmap(im.norm(value)) for value in [0, 1]]\n",
        "    patches = [mpatches.Patch(color=colors[0], label=\"$S\\leq 0$ for some $z\\in[0,1]$\"),\n",
        "               mpatches.Patch(color=colors[1], label=\"$S>0$ for all $z\\in[0,1]$\"),\n",
        "               ]\n",
        "    plt.legend(handles=patches, bbox_to_anchor=(1.05, 1), loc=2, borderaxespad=0. )\n",
        "\n",
        "plt.show()"
      ]
    },
    {
      "cell_type": "markdown",
      "metadata": {
        "id": "Jr8qWxbZ4BD9"
      },
      "source": [
        "### $S$ at $\\lambda=0$"
      ]
    },
    {
      "cell_type": "code",
      "execution_count": null,
      "metadata": {
        "colab": {
          "base_uri": "https://localhost:8080/",
          "height": 38
        },
        "id": "Q3uTR4NG4TUu",
        "outputId": "4b6cc46a-4b0d-45e1-d7ec-ea0ebe6dc9ed"
      },
      "outputs": [
        {
          "data": {
            "image/png": "[encoded data removed]",
            "text/latex": [
              "$\\displaystyle - \\left(z - 1\\right) \\left(\\beta z - 1\\right) \\left(\\beta^{2} z - 1\\right)$"
            ],
            "text/plain": [
              "                       ⎛     2      ⎞\n",
              "-(z - 1)⋅(\\beta⋅z - 1)⋅⎝\\beta ⋅z - 1⎠"
            ]
          },
          "execution_count": 29,
          "metadata": {},
          "output_type": "execute_result"
        }
      ],
      "source": [
        "factor(S.subs({lam:0}))"
      ]
    },
    {
      "cell_type": "markdown",
      "metadata": {
        "id": "3SVYPTb0_knb"
      },
      "source": [
        "## Monotonicity of $z\\widetilde U(z)$\n",
        "Consider the derivative $\\tfrac{d}{dz}(z\\widetilde U(z))$:"
      ]
    },
    {
      "cell_type": "code",
      "execution_count": null,
      "metadata": {
        "colab": {
          "base_uri": "https://localhost:8080/",
          "height": 84
        },
        "id": "nSrjrjOt_1hE",
        "outputId": "a63254d8-77b3-4ce1-8a38-cd893a2bcf8f"
      },
      "outputs": [
        {
          "data": {
            "image/png": "[encoded data removed]",
            "text/latex": [
              "$\\displaystyle \\frac{- z \\left(\\beta z + 1\\right) \\left(2 \\alpha^{2} \\beta \\gamma \\lambda_{k}^{2} \\tau z + 2 \\alpha^{2} \\beta \\lambda_{k}^{2} z + \\alpha^{2} \\gamma \\lambda_{k}^{2} \\tau - \\alpha^{2} \\lambda_{k}^{2} - 4 \\alpha \\beta^{2} \\lambda_{k} z - 4 \\alpha \\beta \\lambda_{k} z + 2 \\alpha \\beta \\lambda_{k} + 2 \\alpha \\lambda_{k} - 3 \\beta^{3} z^{2} + 2 \\beta^{3} z + 2 \\beta^{2} z - \\beta^{2} + 2 \\beta z - \\beta - 1\\right) + \\left(2 \\beta z + 1\\right) \\left(\\alpha^{2} \\beta \\gamma \\lambda_{k}^{2} \\tau z^{2} + \\alpha^{2} \\beta \\lambda_{k}^{2} z^{2} + \\alpha^{2} \\gamma \\lambda_{k}^{2} \\tau z - \\alpha^{2} \\lambda_{k}^{2} z - 2 \\alpha \\beta^{2} \\lambda_{k} z^{2} - 2 \\alpha \\beta \\lambda_{k} z^{2} + 2 \\alpha \\beta \\lambda_{k} z + 2 \\alpha \\lambda_{k} z - \\beta^{3} z^{3} + \\beta^{3} z^{2} + \\beta^{2} z^{2} - \\beta^{2} z + \\beta z^{2} - \\beta z - z + 1\\right)}{\\left(\\alpha^{2} \\beta \\gamma \\lambda_{k}^{2} \\tau z^{2} + \\alpha^{2} \\beta \\lambda_{k}^{2} z^{2} + \\alpha^{2} \\gamma \\lambda_{k}^{2} \\tau z - \\alpha^{2} \\lambda_{k}^{2} z - 2 \\alpha \\beta^{2} \\lambda_{k} z^{2} - 2 \\alpha \\beta \\lambda_{k} z^{2} + 2 \\alpha \\beta \\lambda_{k} z + 2 \\alpha \\lambda_{k} z - \\beta^{3} z^{3} + \\beta^{3} z^{2} + \\beta^{2} z^{2} - \\beta^{2} z + \\beta z^{2} - \\beta z - z + 1\\right)^{2}}$"
            ],
            "text/plain": [
              "                  ⎛        2                      2                  2        \n",
              "- z⋅(\\beta⋅z + 1)⋅⎝2⋅\\alpha ⋅\\beta⋅\\gamma⋅\\lambdaₖ ⋅\\tau⋅z + 2⋅\\alpha ⋅\\beta⋅\\\n",
              "──────────────────────────────────────────────────────────────────────────────\n",
              "                                                                              \n",
              "                                                                              \n",
              "                                                                              \n",
              "\n",
              "       2           2                2              2         2                \n",
              "lambdaₖ ⋅z + \\alpha ⋅\\gamma⋅\\lambdaₖ ⋅\\tau - \\alpha ⋅\\lambdaₖ  - 4⋅\\alpha⋅\\bet\n",
              "──────────────────────────────────────────────────────────────────────────────\n",
              "                                                                              \n",
              "                                                                              \n",
              "                                                                              \n",
              "\n",
              " 2                                                                            \n",
              "a ⋅\\lambdaₖ⋅z - 4⋅\\alpha⋅\\beta⋅\\lambdaₖ⋅z + 2⋅\\alpha⋅\\beta⋅\\lambdaₖ + 2⋅\\alpha\n",
              "──────────────────────────────────────────────────────────────────────────────\n",
              "                                                                              \n",
              "           ⎛      2                      2       2         2               2  \n",
              "           ⎝\\alpha ⋅\\beta⋅\\gamma⋅\\lambdaₖ ⋅\\tau⋅z  + \\alpha ⋅\\beta⋅\\lambdaₖ ⋅z\n",
              "\n",
              "                   3  2          3            2          2                    \n",
              "⋅\\lambdaₖ - 3⋅\\beta ⋅z  + 2⋅\\beta ⋅z + 2⋅\\beta ⋅z - \\beta  + 2⋅\\beta⋅z - \\beta\n",
              "──────────────────────────────────────────────────────────────────────────────\n",
              "                                                                              \n",
              "2         2                2                2         2                   2   \n",
              "  + \\alpha ⋅\\gamma⋅\\lambdaₖ ⋅\\tau⋅z - \\alpha ⋅\\lambdaₖ ⋅z - 2⋅\\alpha⋅\\beta ⋅\\l\n",
              "\n",
              "    ⎞                   ⎛      2                      2       2         2     \n",
              " - 1⎠ + (2⋅\\beta⋅z + 1)⋅⎝\\alpha ⋅\\beta⋅\\gamma⋅\\lambdaₖ ⋅\\tau⋅z  + \\alpha ⋅\\bet\n",
              "──────────────────────────────────────────────────────────────────────────────\n",
              "                                                                              \n",
              "        2                            2                                        \n",
              "ambdaₖ⋅z  - 2⋅\\alpha⋅\\beta⋅\\lambdaₖ⋅z  + 2⋅\\alpha⋅\\beta⋅\\lambdaₖ⋅z + 2⋅\\alpha⋅\n",
              "\n",
              "          2  2         2                2                2         2          \n",
              "a⋅\\lambdaₖ ⋅z  + \\alpha ⋅\\gamma⋅\\lambdaₖ ⋅\\tau⋅z - \\alpha ⋅\\lambdaₖ ⋅z - 2⋅\\al\n",
              "──────────────────────────────────────────────────────────────────────────────\n",
              "                                                                              \n",
              "                  3  3        3  2        2  2        2            2          \n",
              "\\lambdaₖ⋅z - \\beta ⋅z  + \\beta ⋅z  + \\beta ⋅z  - \\beta ⋅z + \\beta⋅z  - \\beta⋅z\n",
              "\n",
              "         2           2                            2                           \n",
              "pha⋅\\beta ⋅\\lambdaₖ⋅z  - 2⋅\\alpha⋅\\beta⋅\\lambdaₖ⋅z  + 2⋅\\alpha⋅\\beta⋅\\lambdaₖ⋅\n",
              "──────────────────────────────────────────────────────────────────────────────\n",
              "         2                                                                    \n",
              "        ⎞                                                                     \n",
              " - z + 1⎠                                                                     \n",
              "\n",
              "                               3  3        3  2        2  2        2          \n",
              "z + 2⋅\\alpha⋅\\lambdaₖ⋅z - \\beta ⋅z  + \\beta ⋅z  + \\beta ⋅z  - \\beta ⋅z + \\beta\n",
              "──────────────────────────────────────────────────────────────────────────────\n",
              "                                                                              \n",
              "                                                                              \n",
              "                                                                              \n",
              "\n",
              "  2                  ⎞\n",
              "⋅z  - \\beta⋅z - z + 1⎠\n",
              "──────────────────────\n",
              "                      \n",
              "                      \n",
              "                      "
            ]
          },
          "metadata": {},
          "output_type": "display_data"
        }
      ],
      "source": [
        "dzu = simplify(diff(z*U, z))\n",
        "display(dzu)"
      ]
    },
    {
      "cell_type": "markdown",
      "metadata": {
        "id": "4vsZgzBeBB7J"
      },
      "source": [
        "The denominator of this expression is $S^2>0$, so we only need to check that the numerator is nonnegative.  "
      ]
    },
    {
      "cell_type": "code",
      "execution_count": null,
      "metadata": {
        "colab": {
          "base_uri": "https://localhost:8080/",
          "height": 76
        },
        "id": "jyIo4ovjAG1Y",
        "outputId": "cdb3115a-1357-451d-e0d8-82510524c37a"
      },
      "outputs": [
        {
          "data": {
            "image/png": "[encoded data removed]",
            "text/latex": [
              "$\\displaystyle - 2 \\alpha^{2} \\beta \\lambda_{k}^{2} z^{2} + 4 \\alpha \\beta^{2} \\lambda_{k} z^{2} + 4 \\alpha \\beta \\lambda_{k} z^{2} + \\beta^{4} z^{4} + 2 \\beta^{3} z^{3} - 2 \\beta^{3} z^{2} - 2 \\beta^{2} z^{2} - 2 \\beta z^{2} + 2 \\beta z + 1$"
            ],
            "text/plain": [
              "          2               2  2                 2           2                  \n",
              "- 2⋅\\alpha ⋅\\beta⋅\\lambdaₖ ⋅z  + 4⋅\\alpha⋅\\beta ⋅\\lambdaₖ⋅z  + 4⋅\\alpha⋅\\beta⋅\n",
              "\n",
              "          2        4  4          3  3          3  2          2  2            2\n",
              "\\lambdaₖ⋅z  + \\beta ⋅z  + 2⋅\\beta ⋅z  - 2⋅\\beta ⋅z  - 2⋅\\beta ⋅z  - 2⋅\\beta⋅z \n",
              "\n",
              "                \n",
              " + 2⋅\\beta⋅z + 1"
            ]
          },
          "metadata": {},
          "output_type": "display_data"
        },
        {
          "name": "stdout",
          "output_type": "stream",
          "text": [
            "- 2 \\alpha^{2} \\beta \\lambda_{k}^{2} z^{2} + 4 \\alpha \\beta^{2} \\lambda_{k} z^{2} + 4 \\alpha \\beta \\lambda_{k} z^{2} + \\beta^{4} z^{4} + 2 \\beta^{3} z^{3} - 2 \\beta^{3} z^{2} - 2 \\beta^{2} z^{2} - 2 \\beta z^{2} + 2 \\beta z + 1\n"
          ]
        }
      ],
      "source": [
        "dzuNum, dzuDenom = fraction(dzu) \n",
        "assert simplify(dzuDenom-S_**2) == 0  \n",
        "R = simplify(dzuNum)\n",
        "display(R)\n",
        "print_latex(R)"
      ]
    },
    {
      "cell_type": "code",
      "execution_count": null,
      "metadata": {
        "colab": {
          "base_uri": "https://localhost:8080/",
          "height": 76
        },
        "id": "sxBhxtaNBztF",
        "outputId": "252f7760-bc02-4f89-dfec-d17c260e2e20"
      },
      "outputs": [
        {
          "data": {
            "image/png": "[encoded data removed]",
            "text/latex": [
              "$\\displaystyle - 2 a^{2} b z^{2} + 4 a b^{2} z^{2} + 4 a b z^{2} + b^{4} z^{4} + 2 b^{3} z^{3} - 2 b^{3} z^{2} - 2 b^{2} z^{2} - 2 b z^{2} + 2 b z + 1$"
            ],
            "text/plain": [
              "     2    2        2  2          2    4  4      3  3      3  2      2  2      \n",
              "- 2⋅a ⋅b⋅z  + 4⋅a⋅b ⋅z  + 4⋅a⋅b⋅z  + b ⋅z  + 2⋅b ⋅z  - 2⋅b ⋅z  - 2⋅b ⋅z  - 2⋅b\n",
              "\n",
              "  2            \n",
              "⋅z  + 2⋅b⋅z + 1"
            ]
          },
          "metadata": {},
          "output_type": "display_data"
        },
        {
          "name": "stdout",
          "output_type": "stream",
          "text": [
            "-2*\\alpha**2*\\beta*\\lambda_k**2*z**2 + 4*\\alpha*\\beta**2*\\lambda_k*z**2 + 4*\\alpha*\\beta*\\lambda_k*z**2 + \\beta**4*z**4 + 2*\\beta**3*z**3 - 2*\\beta**3*z**2 - 2*\\beta**2*z**2 - 2*\\beta*z**2 + 2*\\beta*z + 1\n"
          ]
        }
      ],
      "source": [
        "# simplify notation for convenience\n",
        "R1 = simplify(R.subs({alpha*lam: a, beta:b, gamma:g}))\n",
        "display(R1)\n",
        "print (R)"
      ]
    },
    {
      "cell_type": "markdown",
      "metadata": {
        "id": "l614_vn4CL0U"
      },
      "source": [
        "Definitions for REDUCE/Redlog:\n",
        "\n",
        "`R1 := -2*a**2*b*z**2 + 4*a*b**2*z**2 + 4*a*b*z**2 + b**4*z**4 + 2*b**3*z**3 - 2*b**3*z**2 - 2*b**2*z**2 - 2*b*z**2 + 2*b*z + 1`\n",
        "\n",
        "The condition for REDUCE/Redlog to be determined as FALSE: \n",
        "\n",
        "`W1 := ex({a,b,z}, -1<b and b<1 and 0<a and a<2*(b+1) and 0<z and z<1 and R1<0)`\n",
        "\n",
        "### Experimental demonstration of $\\tfrac{d}{dz}(z\\widetilde U(z))\\ge 0$"
      ]
    },
    {
      "cell_type": "code",
      "execution_count": null,
      "metadata": {
        "colab": {
          "base_uri": "https://localhost:8080/",
          "height": 233
        },
        "id": "_RCuuUVyDFAz",
        "outputId": "31e2074f-7db4-431b-830b-1a7b83df649f"
      },
      "outputs": [
        {
          "data": {
            "image/png": "[encoded data removed]",
            "text/plain": [
              "<Figure size 432x288 with 1 Axes>"
            ]
          },
          "metadata": {
            "needs_background": "light"
          },
          "output_type": "display_data"
        }
      ],
      "source": [
        "import matplotlib.patches as mpatches\n",
        "\n",
        "fR = lambdify([alpha, beta, lam, z], R, 'numpy')\n",
        "z_ = np.linspace(0,1,100)\n",
        "alphaA = np.linspace(0,4,200)\n",
        "betaA = np.linspace(-1,1,100)\n",
        "res = np.zeros((len(alphaA),len(betaA)))\n",
        "extent = np.min(alphaA), np.max(alphaA), np.min(betaA), np.max(betaA)\n",
        "\n",
        "plt.figure()\n",
        "for n_alpha, alpha_ in enumerate(alphaA):\n",
        "    for n_beta, beta_ in enumerate(betaA):\n",
        "        res[n_alpha, n_beta] = np.prod(fR(alpha_, beta_, 1, z_) >= 0)\n",
        "\n",
        "plt.xlabel('$\\\\alpha$')\n",
        "plt.ylabel('$\\\\beta$')\n",
        "\n",
        "im = plt.imshow(res.T, extent=extent, origin='lower')\n",
        "colors = [im.cmap(im.norm(value)) for value in [0, 1]]\n",
        "patches = [mpatches.Patch(color=colors[0], label=r\"$\\frac{d}{dz}(z\\widetilde U(z))< 0$ for some $z\\in[0,1]$\"),\n",
        "            mpatches.Patch(color=colors[1], label=r\"$\\frac{d}{dz}(z\\widetilde U(z))\\geq 0$ for all $z\\in[0,1]$\"),\n",
        "            ]\n",
        "plt.legend(handles=patches, bbox_to_anchor=(1.05, 1), loc=2, borderaxespad=0. )\n",
        "\n",
        "plt.show()"
      ]
    },
    {
      "cell_type": "markdown",
      "metadata": {
        "id": "lhaMFYpAK-nG"
      },
      "source": [
        "# Manipulations with $S, \\widetilde U, \\widetilde V$"
      ]
    },
    {
      "cell_type": "code",
      "execution_count": null,
      "metadata": {
        "colab": {
          "base_uri": "https://localhost:8080/",
          "height": 56
        },
        "id": "5DFfVeIGLMBZ",
        "outputId": "23f3029a-2324-4eea-ac27-d35c4205e002"
      },
      "outputs": [
        {
          "data": {
            "image/png": "[encoded data removed]",
            "text/latex": [
              "$\\displaystyle \\frac{\\beta + 1}{\\alpha \\lambda_{k} \\left(\\alpha \\beta \\gamma \\lambda_{k} \\tau + \\alpha \\beta \\lambda_{k} + \\alpha \\gamma \\lambda_{k} \\tau - \\alpha \\lambda_{k} - 2 \\beta^{2} + 2\\right)}$"
            ],
            "text/plain": [
              "                                                                \\beta + 1     \n",
              "──────────────────────────────────────────────────────────────────────────────\n",
              "                ⎛                                                             \n",
              "\\alpha⋅\\lambdaₖ⋅⎝\\alpha⋅\\beta⋅\\gamma⋅\\lambdaₖ⋅\\tau + \\alpha⋅\\beta⋅\\lambdaₖ + \\\n",
              "\n",
              "                                                            \n",
              "────────────────────────────────────────────────────────────\n",
              "                                                      2    ⎞\n",
              "alpha⋅\\gamma⋅\\lambdaₖ⋅\\tau - \\alpha⋅\\lambdaₖ - 2⋅\\beta  + 2⎠"
            ]
          },
          "execution_count": 52,
          "metadata": {},
          "output_type": "execute_result"
        }
      ],
      "source": [
        "factor(U.subs({z:1}))"
      ]
    }
  ],
  "metadata": {
    "colab": {
      "collapsed_sections": [],
      "name": "SGD_generating_funcs.ipynb",
      "provenance": []
    },
    "kernelspec": {
      "display_name": "Python 3",
      "name": "python3"
    },
    "language_info": {
      "name": "python"
    }
  },
  "nbformat": 4,
  "nbformat_minor": 0
}
